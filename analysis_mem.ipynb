{
 "cells": [
  {
   "cell_type": "code",
   "execution_count": 1,
   "metadata": {},
   "outputs": [],
   "source": [
    "import pandas as pd\n",
    "import seaborn as sns\n",
    "import os\n",
    "import glob\n",
    "import tqdm\n",
    "import matplotlib.pyplot as plt"
   ]
  },
  {
   "cell_type": "code",
   "execution_count": 2,
   "metadata": {},
   "outputs": [],
   "source": [
    "sns.set(rc = {'figure.figsize':(15,8)}, font_scale = 1.5)"
   ]
  },
  {
   "cell_type": "code",
   "execution_count": 3,
   "metadata": {},
   "outputs": [],
   "source": [
    "path = 'vm108_val_midtri_256.xlsx'\n",
    "df = pd.read_excel(path, sheet_name=None)['avg_clip']\n",
    "df = df.rename(columns={df.columns[0]: 'metric'})\n",
    "df.index = df['metric']"
   ]
  },
  {
   "cell_type": "code",
   "execution_count": 4,
   "metadata": {},
   "outputs": [
    {
     "data": {
      "text/plain": [
       "[1, 30, 60, 120, 240, 480]"
      ]
     },
     "execution_count": 4,
     "metadata": {},
     "output_type": "execute_result"
    }
   ],
   "source": [
    "models = df.columns[1:].tolist()\n",
    "names, frames = zip(*[(k.rsplit('_mem', maxsplit=1)) for k in models if '_mem' in k and k[-1]=='f'])\n",
    "names = list(set(names))\n",
    "frames = sorted([int(i[:-1]) for i in list(set(frames)) if i[:-1].isdigit()])\n",
    "frames"
   ]
  },
  {
   "cell_type": "code",
   "execution_count": 5,
   "metadata": {},
   "outputs": [
    {
     "data": {
      "text/plain": [
       "['TCVOM_GCA_TAM',\n",
       " 'GFM_GatedFuseVM_4xfoucs_randmemtrimap',\n",
       " 'GFM_GatedFuseVM_4xfoucs']"
      ]
     },
     "execution_count": 5,
     "metadata": {},
     "output_type": "execute_result"
    }
   ],
   "source": [
    "# TODO: select some models only\n",
    "names = [i for i in names if 'STCN' not in i]\n",
    "names"
   ]
  },
  {
   "cell_type": "code",
   "execution_count": 6,
   "metadata": {},
   "outputs": [],
   "source": [
    "metric_dfs = {}\n",
    "avg_dfs = {}\n",
    "for model in names:\n",
    "    # print(model+\"_mem30f\" in df.columns)\n",
    "    cols = [(f'mem{f}f', col) for f in frames if (col:=f'{model}_mem{f}f') in df.columns]\n",
    "    cols.append(('first_only', model))\n",
    "    # print(cols)\n",
    "    idx, cols = zip(*cols)\n",
    "    model_df = df[list(cols)]\n",
    "    model_df.columns = idx\n",
    "    avg_dfs[model] = model_df\n",
    "metric = model_df.index"
   ]
  },
  {
   "cell_type": "code",
   "execution_count": 7,
   "metadata": {},
   "outputs": [
    {
     "data": {
      "text/plain": [
       "dict_keys(['TCVOM_GCA_TAM', 'GFM_GatedFuseVM_4xfoucs_randmemtrimap', 'GFM_GatedFuseVM_4xfoucs'])"
      ]
     },
     "execution_count": 7,
     "metadata": {},
     "output_type": "execute_result"
    }
   ],
   "source": [
    "avg_dfs.keys()"
   ]
  },
  {
   "cell_type": "code",
   "execution_count": 8,
   "metadata": {},
   "outputs": [
    {
     "data": {
      "text/html": [
       "<div>\n",
       "<style scoped>\n",
       "    .dataframe tbody tr th:only-of-type {\n",
       "        vertical-align: middle;\n",
       "    }\n",
       "\n",
       "    .dataframe tbody tr th {\n",
       "        vertical-align: top;\n",
       "    }\n",
       "\n",
       "    .dataframe thead th {\n",
       "        text-align: right;\n",
       "    }\n",
       "</style>\n",
       "<table border=\"1\" class=\"dataframe\">\n",
       "  <thead>\n",
       "    <tr style=\"text-align: right;\">\n",
       "      <th></th>\n",
       "      <th>mem30f</th>\n",
       "      <th>mem60f</th>\n",
       "      <th>mem120f</th>\n",
       "      <th>mem240f</th>\n",
       "      <th>mem480f</th>\n",
       "      <th>first_only</th>\n",
       "    </tr>\n",
       "    <tr>\n",
       "      <th>metric</th>\n",
       "      <th></th>\n",
       "      <th></th>\n",
       "      <th></th>\n",
       "      <th></th>\n",
       "      <th></th>\n",
       "      <th></th>\n",
       "    </tr>\n",
       "  </thead>\n",
       "  <tbody>\n",
       "    <tr>\n",
       "      <th>tran_pha_sad</th>\n",
       "      <td>NaN</td>\n",
       "      <td>NaN</td>\n",
       "      <td>NaN</td>\n",
       "      <td>NaN</td>\n",
       "      <td>NaN</td>\n",
       "      <td>NaN</td>\n",
       "    </tr>\n",
       "    <tr>\n",
       "      <th>tran_pha_mse</th>\n",
       "      <td>NaN</td>\n",
       "      <td>NaN</td>\n",
       "      <td>NaN</td>\n",
       "      <td>NaN</td>\n",
       "      <td>NaN</td>\n",
       "      <td>NaN</td>\n",
       "    </tr>\n",
       "    <tr>\n",
       "      <th>tran_pha_mad</th>\n",
       "      <td>NaN</td>\n",
       "      <td>NaN</td>\n",
       "      <td>NaN</td>\n",
       "      <td>NaN</td>\n",
       "      <td>NaN</td>\n",
       "      <td>NaN</td>\n",
       "    </tr>\n",
       "    <tr>\n",
       "      <th>tran_pha_grad</th>\n",
       "      <td>NaN</td>\n",
       "      <td>NaN</td>\n",
       "      <td>NaN</td>\n",
       "      <td>NaN</td>\n",
       "      <td>NaN</td>\n",
       "      <td>NaN</td>\n",
       "    </tr>\n",
       "    <tr>\n",
       "      <th>tran_pha_dtssd</th>\n",
       "      <td>NaN</td>\n",
       "      <td>NaN</td>\n",
       "      <td>NaN</td>\n",
       "      <td>NaN</td>\n",
       "      <td>NaN</td>\n",
       "      <td>NaN</td>\n",
       "    </tr>\n",
       "    <tr>\n",
       "      <th>pha_sad</th>\n",
       "      <td>NaN</td>\n",
       "      <td>NaN</td>\n",
       "      <td>NaN</td>\n",
       "      <td>NaN</td>\n",
       "      <td>NaN</td>\n",
       "      <td>NaN</td>\n",
       "    </tr>\n",
       "    <tr>\n",
       "      <th>pha_mse</th>\n",
       "      <td>18.204826</td>\n",
       "      <td>25.008461</td>\n",
       "      <td>34.453004</td>\n",
       "      <td>45.204300</td>\n",
       "      <td>63.017001</td>\n",
       "      <td>68.842753</td>\n",
       "    </tr>\n",
       "    <tr>\n",
       "      <th>pha_mad</th>\n",
       "      <td>39.207689</td>\n",
       "      <td>48.639242</td>\n",
       "      <td>61.180227</td>\n",
       "      <td>74.993171</td>\n",
       "      <td>95.653449</td>\n",
       "      <td>104.309140</td>\n",
       "    </tr>\n",
       "    <tr>\n",
       "      <th>pha_grad</th>\n",
       "      <td>4.241476</td>\n",
       "      <td>5.482498</td>\n",
       "      <td>6.548384</td>\n",
       "      <td>7.634808</td>\n",
       "      <td>7.980837</td>\n",
       "      <td>8.285649</td>\n",
       "    </tr>\n",
       "    <tr>\n",
       "      <th>pha_dtssd</th>\n",
       "      <td>4.937483</td>\n",
       "      <td>5.110320</td>\n",
       "      <td>5.183748</td>\n",
       "      <td>5.351137</td>\n",
       "      <td>5.330876</td>\n",
       "      <td>5.450519</td>\n",
       "    </tr>\n",
       "    <tr>\n",
       "      <th>pha_conn</th>\n",
       "      <td>2.549629</td>\n",
       "      <td>3.186244</td>\n",
       "      <td>4.045838</td>\n",
       "      <td>4.980247</td>\n",
       "      <td>6.389893</td>\n",
       "      <td>6.981656</td>\n",
       "    </tr>\n",
       "    <tr>\n",
       "      <th>fg_pha_sad</th>\n",
       "      <td>NaN</td>\n",
       "      <td>NaN</td>\n",
       "      <td>NaN</td>\n",
       "      <td>NaN</td>\n",
       "      <td>NaN</td>\n",
       "      <td>NaN</td>\n",
       "    </tr>\n",
       "    <tr>\n",
       "      <th>fg_pha_mse</th>\n",
       "      <td>NaN</td>\n",
       "      <td>NaN</td>\n",
       "      <td>NaN</td>\n",
       "      <td>NaN</td>\n",
       "      <td>NaN</td>\n",
       "      <td>NaN</td>\n",
       "    </tr>\n",
       "    <tr>\n",
       "      <th>fg_pha_mad</th>\n",
       "      <td>NaN</td>\n",
       "      <td>NaN</td>\n",
       "      <td>NaN</td>\n",
       "      <td>NaN</td>\n",
       "      <td>NaN</td>\n",
       "      <td>NaN</td>\n",
       "    </tr>\n",
       "    <tr>\n",
       "      <th>fg_pha_grad</th>\n",
       "      <td>NaN</td>\n",
       "      <td>NaN</td>\n",
       "      <td>NaN</td>\n",
       "      <td>NaN</td>\n",
       "      <td>NaN</td>\n",
       "      <td>NaN</td>\n",
       "    </tr>\n",
       "    <tr>\n",
       "      <th>fg_pha_dtssd</th>\n",
       "      <td>NaN</td>\n",
       "      <td>NaN</td>\n",
       "      <td>NaN</td>\n",
       "      <td>NaN</td>\n",
       "      <td>NaN</td>\n",
       "      <td>NaN</td>\n",
       "    </tr>\n",
       "    <tr>\n",
       "      <th>bg_pha_sad</th>\n",
       "      <td>NaN</td>\n",
       "      <td>NaN</td>\n",
       "      <td>NaN</td>\n",
       "      <td>NaN</td>\n",
       "      <td>NaN</td>\n",
       "      <td>NaN</td>\n",
       "    </tr>\n",
       "    <tr>\n",
       "      <th>bg_pha_mse</th>\n",
       "      <td>NaN</td>\n",
       "      <td>NaN</td>\n",
       "      <td>NaN</td>\n",
       "      <td>NaN</td>\n",
       "      <td>NaN</td>\n",
       "      <td>NaN</td>\n",
       "    </tr>\n",
       "    <tr>\n",
       "      <th>bg_pha_mad</th>\n",
       "      <td>NaN</td>\n",
       "      <td>NaN</td>\n",
       "      <td>NaN</td>\n",
       "      <td>NaN</td>\n",
       "      <td>NaN</td>\n",
       "      <td>NaN</td>\n",
       "    </tr>\n",
       "    <tr>\n",
       "      <th>bg_pha_grad</th>\n",
       "      <td>NaN</td>\n",
       "      <td>NaN</td>\n",
       "      <td>NaN</td>\n",
       "      <td>NaN</td>\n",
       "      <td>NaN</td>\n",
       "      <td>NaN</td>\n",
       "    </tr>\n",
       "    <tr>\n",
       "      <th>bg_pha_dtssd</th>\n",
       "      <td>NaN</td>\n",
       "      <td>NaN</td>\n",
       "      <td>NaN</td>\n",
       "      <td>NaN</td>\n",
       "      <td>NaN</td>\n",
       "      <td>NaN</td>\n",
       "    </tr>\n",
       "  </tbody>\n",
       "</table>\n",
       "</div>"
      ],
      "text/plain": [
       "                   mem30f     mem60f    mem120f    mem240f    mem480f  \\\n",
       "metric                                                                  \n",
       "tran_pha_sad          NaN        NaN        NaN        NaN        NaN   \n",
       "tran_pha_mse          NaN        NaN        NaN        NaN        NaN   \n",
       "tran_pha_mad          NaN        NaN        NaN        NaN        NaN   \n",
       "tran_pha_grad         NaN        NaN        NaN        NaN        NaN   \n",
       "tran_pha_dtssd        NaN        NaN        NaN        NaN        NaN   \n",
       "pha_sad               NaN        NaN        NaN        NaN        NaN   \n",
       "pha_mse         18.204826  25.008461  34.453004  45.204300  63.017001   \n",
       "pha_mad         39.207689  48.639242  61.180227  74.993171  95.653449   \n",
       "pha_grad         4.241476   5.482498   6.548384   7.634808   7.980837   \n",
       "pha_dtssd        4.937483   5.110320   5.183748   5.351137   5.330876   \n",
       "pha_conn         2.549629   3.186244   4.045838   4.980247   6.389893   \n",
       "fg_pha_sad            NaN        NaN        NaN        NaN        NaN   \n",
       "fg_pha_mse            NaN        NaN        NaN        NaN        NaN   \n",
       "fg_pha_mad            NaN        NaN        NaN        NaN        NaN   \n",
       "fg_pha_grad           NaN        NaN        NaN        NaN        NaN   \n",
       "fg_pha_dtssd          NaN        NaN        NaN        NaN        NaN   \n",
       "bg_pha_sad            NaN        NaN        NaN        NaN        NaN   \n",
       "bg_pha_mse            NaN        NaN        NaN        NaN        NaN   \n",
       "bg_pha_mad            NaN        NaN        NaN        NaN        NaN   \n",
       "bg_pha_grad           NaN        NaN        NaN        NaN        NaN   \n",
       "bg_pha_dtssd          NaN        NaN        NaN        NaN        NaN   \n",
       "\n",
       "                first_only  \n",
       "metric                      \n",
       "tran_pha_sad           NaN  \n",
       "tran_pha_mse           NaN  \n",
       "tran_pha_mad           NaN  \n",
       "tran_pha_grad          NaN  \n",
       "tran_pha_dtssd         NaN  \n",
       "pha_sad                NaN  \n",
       "pha_mse          68.842753  \n",
       "pha_mad         104.309140  \n",
       "pha_grad          8.285649  \n",
       "pha_dtssd         5.450519  \n",
       "pha_conn          6.981656  \n",
       "fg_pha_sad             NaN  \n",
       "fg_pha_mse             NaN  \n",
       "fg_pha_mad             NaN  \n",
       "fg_pha_grad            NaN  \n",
       "fg_pha_dtssd           NaN  \n",
       "bg_pha_sad             NaN  \n",
       "bg_pha_mse             NaN  \n",
       "bg_pha_mad             NaN  \n",
       "bg_pha_grad            NaN  \n",
       "bg_pha_dtssd           NaN  "
      ]
     },
     "execution_count": 8,
     "metadata": {},
     "output_type": "execute_result"
    }
   ],
   "source": [
    "avg_dfs[next(iter(avg_dfs))]"
   ]
  },
  {
   "cell_type": "code",
   "execution_count": 9,
   "metadata": {},
   "outputs": [],
   "source": [
    "name_dict = {\n",
    "    'GFM_GatedFuseVM_4xfoucs': 'GFM_GatedFuseVM_4xfoucs',\n",
    "    'GFM_GatedFuseVM_4xfoucs_randmemtrimap': 'GFM_GatedFuseVM_4xfoucs_randmemtrimap',\n",
    "    # 'TCVOM_GCA_TAM': 'TCVOM GCA TAM',\n",
    "    # 'ft_TCVOM_GCA_TAM': 'TCVOM Finetune',\n",
    "}"
   ]
  },
  {
   "cell_type": "code",
   "execution_count": 10,
   "metadata": {},
   "outputs": [],
   "source": [
    "def sort_time(df):\n",
    "    time_order = [f'mem{f}f' for f in frames] + ['first_only']\n",
    "    return df.reindex(time_order)"
   ]
  },
  {
   "cell_type": "code",
   "execution_count": 16,
   "metadata": {},
   "outputs": [
    {
     "data": {
      "image/png": "[encoded data removed]",
      "text/plain": [
       "<Figure size 1080x576 with 1 Axes>"
      ]
     },
     "metadata": {},
     "output_type": "display_data"
    }
   ],
   "source": [
    "def run_fig(avg_dfs, name_dict, metric, save_path=''):\n",
    "    # for metric in avg_dfs[next(iter(avg_dfs))]\n",
    "    # df = pd.DataFrame({k: v.loc[metric] for k, v in avg_dfs.items()})\n",
    "    df = pd.DataFrame({name_dict[k]: v.loc[metric] for k, v in avg_dfs.items() if k in name_dict})\n",
    "    # df = pd.DataFrame({name_dict[k]: v[metric] for k, v in avg_dfs.items()})\n",
    "    df = sort_time(df)\n",
    "    # plt.figure()\n",
    "    plt.clf()\n",
    "    lp = sns.lineplot(data=df, linewidth=5)\n",
    "    lp.set(title=f'{metric}')\n",
    "    d = {l:h for h, l in zip(*lp.get_legend_handles_labels())}\n",
    "    h, l = zip(*[(d[k], k) for k in name_dict.values()])\n",
    "    for leg in lp.legend(h, l).get_lines():\n",
    "        leg.set_linewidth(5)\n",
    "    if save_path != '':\n",
    "        os.makedirs(save_path, exist_ok=True)\n",
    "        plt.savefig(os.path.join(save_path, metric+\".png\"), bbox_inches='tight')\n",
    "# metric = 'pha_grad'\n",
    "# run_fig(avg_dfs, name_dict, 'tran_pha_sad')\n",
    "for metric in avg_dfs[next(iter(avg_dfs))].index:\n",
    "    run_fig(avg_dfs, name_dict, metric, 'figs_randmemtrimap')\n",
    "    break"
   ]
  },
  {
   "cell_type": "code",
   "execution_count": null,
   "metadata": {},
   "outputs": [],
   "source": [
    "def plot_hist(score):\n",
    "    df = score.melt(value_vars=score.columns).dropna()\n",
    "    sns.displot(data=df, col='variable', x='value', multiple='dodge', bins=10)\n",
    "    sns.set(rc={'figure.figsize':(8, 8)})\n",
    "    # sns.set_context(\n",
    "    #     # \"notebook\", \n",
    "    #     font_scale=2, \n",
    "    #     rc={\"lines.linewidth\": 2, 'figure.figsize':(26,18)}\n",
    "    # )\n",
    "df = pd.DataFrame({\n",
    "    'TCVOM': metric_dfs['TCVOM_GCA_TAM']['pha_dtssd']['mem30f'],\n",
    "    'GFM GatedFuseVM(TempCons)': metric_dfs['GFM_GatedFuseVM_temp_cons']['pha_dtssd']['mem30f']\n",
    "})\n",
    "plot_hist(df)"
   ]
  },
  {
   "cell_type": "code",
   "execution_count": null,
   "metadata": {},
   "outputs": [],
   "source": [
    "lp = sns.lineplot(data=df, linewidth=5)\n",
    "for leg in lp.legend().get_lines():\n",
    "    leg.set_linewidth(5)"
   ]
  }
 ],
 "metadata": {
  "interpreter": {
   "hash": "ddf699774f80c4335ee033fa93469ccefef15836bbfdcb2135a2b3e8a4eea417"
  },
  "kernelspec": {
   "display_name": "Python 3.8.5 ('torch')",
   "language": "python",
   "name": "python3"
  },
  "language_info": {
   "codemirror_mode": {
    "name": "ipython",
    "version": 3
   },
   "file_extension": ".py",
   "mimetype": "text/x-python",
   "name": "python",
   "nbconvert_exporter": "python",
   "pygments_lexer": "ipython3",
   "version": "3.8.5"
  },
  "orig_nbformat": 4
 },
 "nbformat": 4,
 "nbformat_minor": 2
}
